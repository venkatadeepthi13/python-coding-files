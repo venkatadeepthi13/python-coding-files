{
 "cells": [
  {
   "cell_type": "code",
   "execution_count": 15,
   "id": "7eb9d1af",
   "metadata": {},
   "outputs": [
    {
     "name": "stdout",
     "output_type": "stream",
     "text": [
      "#####\n",
      "#   #\n",
      "# # #\n",
      "#   #\n",
      "#   #\n"
     ]
    }
   ],
   "source": [
    "x=1\n",
    "while x<=5:\n",
    "    if x==1:\n",
    "        print('#####')\n",
    "    elif x==2 or x==4 or x==5:\n",
    "        print('#   #')\n",
    "    else:\n",
    "        print('# # #')\n",
    "    x=x+1"
   ]
  },
  {
   "cell_type": "code",
   "execution_count": 12,
   "id": "03916dfb",
   "metadata": {},
   "outputs": [
    {
     "name": "stdout",
     "output_type": "stream",
     "text": [
      "#######\n",
      "#      #\n",
      "#      #\n",
      "#  #  #\n",
      "#      #\n",
      "#      #\n",
      "#######\n"
     ]
    }
   ],
   "source": [
    "x=1\n",
    "while x<=7:\n",
    "    if x==1 or x==7:\n",
    "        print('#######')\n",
    "    elif x==2 or x==3 or x==5 or x==6:\n",
    "        print('#      #')\n",
    "    else:\n",
    "        print('#  #  #')\n",
    "    x=x+1"
   ]
  },
  {
   "cell_type": "code",
   "execution_count": 5,
   "id": "5a575f9a",
   "metadata": {},
   "outputs": [
    {
     "name": "stdout",
     "output_type": "stream",
     "text": [
      "#######\n",
      "#\n",
      "#\n",
      "#\n",
      "#\n",
      "#\n",
      "#######\n"
     ]
    }
   ],
   "source": [
    "x=1\n",
    "while x<=7:\n",
    "    if x==1 or x==7:\n",
    "        print('#######')\n",
    "    else:\n",
    "        print('#')\n",
    "    x=x+1"
   ]
  },
  {
   "cell_type": "code",
   "execution_count": 9,
   "id": "5785c51a",
   "metadata": {},
   "outputs": [
    {
     "name": "stdout",
     "output_type": "stream",
     "text": [
      "#######\n",
      "#      #\n",
      "#      #\n",
      "#      #\n",
      "#      #\n",
      "#      #\n",
      "#######\n"
     ]
    }
   ],
   "source": [
    "x=1\n",
    "while x<=7:\n",
    "    if x==1 or x==7:\n",
    "        print('#######')\n",
    "    else:\n",
    "        print('#      #')\n",
    "    x=x+1"
   ]
  },
  {
   "cell_type": "code",
   "execution_count": 11,
   "id": "bf9c42d8",
   "metadata": {},
   "outputs": [
    {
     "name": "stdout",
     "output_type": "stream",
     "text": [
      "######\n",
      "#\n",
      "#\n",
      "######\n",
      "#\n",
      "#\n",
      "######\n"
     ]
    }
   ],
   "source": [
    "x=1\n",
    "while x<=7:\n",
    "    if x==1 or x==4 or x==7:\n",
    "        print('######')\n",
    "    else:\n",
    "        print('#')\n",
    "    x=x+1"
   ]
  },
  {
   "cell_type": "code",
   "execution_count": 13,
   "id": "cc783656",
   "metadata": {},
   "outputs": [
    {
     "name": "stdout",
     "output_type": "stream",
     "text": [
      "#######\n",
      "#\n",
      "#\n",
      "#######\n",
      "#\n",
      "#\n",
      "#\n"
     ]
    }
   ],
   "source": [
    "x=1\n",
    "while x<=7:\n",
    "    if x==1 or x==4:\n",
    "        print('#######')\n",
    "    else:\n",
    "        print('#')\n",
    "    x=x+1"
   ]
  },
  {
   "cell_type": "code",
   "execution_count": 19,
   "id": "48fd4df0",
   "metadata": {},
   "outputs": [
    {
     "name": "stdout",
     "output_type": "stream",
     "text": [
      "#######\n",
      "#\n",
      "#  ####\n",
      "#     #\n",
      "#######\n"
     ]
    }
   ],
   "source": [
    "x=1\n",
    "while x<=5:\n",
    "    if x==1 or x==5:\n",
    "        print('#######')\n",
    "    elif x==3:\n",
    "        print('#  ####')\n",
    "    elif x==4:\n",
    "        print('#     #')\n",
    "    else:\n",
    "        print('#')\n",
    "    x=x+1"
   ]
  },
  {
   "cell_type": "code",
   "execution_count": 30,
   "id": "98a2918d",
   "metadata": {},
   "outputs": [
    {
     "name": "stdout",
     "output_type": "stream",
     "text": [
      "#        #\n",
      "#        #\n",
      "#        #\n",
      "##########\n",
      "#        #\n",
      "#        #\n",
      "#        #\n"
     ]
    }
   ],
   "source": [
    "x=1\n",
    "while x<=7:\n",
    "    if x==4:\n",
    "        print('##########')\n",
    "    else:\n",
    "        print('#        #')\n",
    "    x=x+1"
   ]
  },
  {
   "cell_type": "code",
   "execution_count": 31,
   "id": "55581db5",
   "metadata": {},
   "outputs": [
    {
     "name": "stdout",
     "output_type": "stream",
     "text": [
      "#######\n",
      "   #    \n",
      "   #    \n",
      "   #    \n",
      "   #    \n",
      "   #    \n",
      "#######\n"
     ]
    }
   ],
   "source": [
    "x=1\n",
    "while x<=7:\n",
    "    if x==1 or x==7:\n",
    "        print('#######')\n",
    "    else:\n",
    "        print('   #    ')\n",
    "    x=x+1"
   ]
  },
  {
   "cell_type": "code",
   "execution_count": 48,
   "id": "4d8bba7f",
   "metadata": {},
   "outputs": [
    {
     "name": "stdout",
     "output_type": "stream",
     "text": [
      "#########\n",
      "     #  \n",
      "     #  \n",
      "     #  \n",
      "#    #\n",
      "#    #\n",
      "######\n"
     ]
    }
   ],
   "source": [
    "x=1\n",
    "while x<=7:\n",
    "    if x==1:\n",
    "        print('#########')\n",
    "    elif x==7:\n",
    "        print('######')\n",
    "    elif x==6 or x==5:\n",
    "        print('#    #')\n",
    "    else:\n",
    "        print('     #  ')\n",
    "    x=x+1"
   ]
  },
  {
   "cell_type": "code",
   "execution_count": 50,
   "id": "b11ff978",
   "metadata": {},
   "outputs": [
    {
     "name": "stdout",
     "output_type": "stream",
     "text": [
      "#      #\n",
      "#     #\n",
      "#    #\n",
      "# ##\n",
      "#    #\n",
      "#     #\n",
      "#      #\n"
     ]
    }
   ],
   "source": [
    "x=1\n",
    "while x<=7:\n",
    "    if x==1 or x==7:\n",
    "        print('#      #')\n",
    "    elif x==2 or x==6:\n",
    "        print('#     #')\n",
    "    elif x==3 or x==5: \n",
    "        print('#    #')\n",
    "    else:\n",
    "        print('# ##')\n",
    "    x=x+1"
   ]
  },
  {
   "cell_type": "code",
   "execution_count": 51,
   "id": "f8b0d65e",
   "metadata": {},
   "outputs": [
    {
     "name": "stdout",
     "output_type": "stream",
     "text": [
      "#\n",
      "#\n",
      "#\n",
      "#\n",
      "#\n",
      "#\n",
      "#######\n"
     ]
    }
   ],
   "source": [
    "x=1\n",
    "while x<=7:\n",
    "    if x==7:\n",
    "        print('#######')\n",
    "    else:\n",
    "        print('#')\n",
    "    x=x+1"
   ]
  },
  {
   "cell_type": "code",
   "execution_count": 59,
   "id": "e78f8d0e",
   "metadata": {},
   "outputs": [
    {
     "name": "stdout",
     "output_type": "stream",
     "text": [
      "##     ##\n",
      "#  # #  #\n",
      "#   #   #\n",
      "#       #\n",
      "#       #\n",
      "#       #\n"
     ]
    }
   ],
   "source": [
    "x=1\n",
    "while x<=6:\n",
    "    if x==1:\n",
    "        print('##     ##')\n",
    "    elif x==2:\n",
    "        print('#  # #  #')\n",
    "    elif x==3:\n",
    "        print('#   #   #')\n",
    "    else:\n",
    "        print('#       #')\n",
    "    x=x+1"
   ]
  },
  {
   "cell_type": "code",
   "execution_count": 69,
   "id": "499b2e61",
   "metadata": {},
   "outputs": [
    {
     "name": "stdout",
     "output_type": "stream",
     "text": [
      "#      #\n",
      "##     #\n",
      "# #    #\n",
      "#  #   #\n",
      "#   #  #\n",
      "#    # #\n"
     ]
    }
   ],
   "source": [
    "x=1\n",
    "while x<=6:\n",
    "    if x==1 :\n",
    "        print('#      #')\n",
    "    elif x==2:\n",
    "        print('##     #')\n",
    "    elif x==3:\n",
    "        print('# #    #')\n",
    "    elif x==4:\n",
    "        print('#  #   #')\n",
    "    elif x==5:\n",
    "        print('#   #  #')\n",
    "    else:\n",
    "        print('#    # #')\n",
    "    x=x+1"
   ]
  },
  {
   "cell_type": "code",
   "execution_count": 72,
   "id": "07ba6102",
   "metadata": {},
   "outputs": [
    {
     "name": "stdout",
     "output_type": "stream",
     "text": [
      " ####### \n",
      "#       #\n",
      "#       #\n",
      "#       #\n",
      "#       #\n",
      " ####### \n"
     ]
    }
   ],
   "source": [
    "x=1\n",
    "while x<=6:\n",
    "    if x==1 or x==6:\n",
    "        print(' ####### ')\n",
    "    else:\n",
    "        print('#       #')\n",
    "    x=x+1"
   ]
  },
  {
   "cell_type": "code",
   "execution_count": 81,
   "id": "185fdec0",
   "metadata": {},
   "outputs": [
    {
     "name": "stdout",
     "output_type": "stream",
     "text": [
      "######## \n",
      "#       #\n",
      "#       #\n",
      "######## \n",
      "#\n",
      "#\n",
      "#\n",
      "#\n"
     ]
    }
   ],
   "source": [
    "x=1\n",
    "while x<=8:\n",
    "    if x==1 or x==4:\n",
    "        print('######## ')\n",
    "    elif x==2 or x==3:\n",
    "        print('#       #')\n",
    "    else:\n",
    "        print('#')\n",
    "    x=x+1"
   ]
  },
  {
   "cell_type": "code",
   "execution_count": 107,
   "id": "d0abbda3",
   "metadata": {},
   "outputs": [
    {
     "name": "stdout",
     "output_type": "stream",
     "text": [
      " ####### \n",
      "#       #\n",
      "#       #\n",
      "#  #    #\n",
      "#    #  #\n",
      " ####### \n",
      "         #\n",
      "           #\n"
     ]
    }
   ],
   "source": [
    "x=1\n",
    "while x<=8:\n",
    "    if x==1 or x==6:\n",
    "        print(' ####### ')\n",
    "    elif x==2 or x==3:\n",
    "        print('#       #')\n",
    "    elif x==4:\n",
    "        print('#  #    #')\n",
    "    elif x==5:\n",
    "        print('#    #  #')\n",
    "    elif x==7:\n",
    "        print('         #')\n",
    "    else:\n",
    "        print('           #')\n",
    "    x=x+1"
   ]
  },
  {
   "cell_type": "code",
   "execution_count": 136,
   "id": "df15a925",
   "metadata": {},
   "outputs": [
    {
     "name": "stdout",
     "output_type": "stream",
     "text": [
      "########\n",
      "#       #\n",
      "#       #\n",
      "########\n",
      "# #\n",
      "#   #\n",
      "#    #\n",
      "#     #\n"
     ]
    }
   ],
   "source": [
    "x=1\n",
    "while x<=8:\n",
    "    if x==1 or x==4:\n",
    "        print('########')\n",
    "    elif x==2 or x==3:\n",
    "        print('#       #')\n",
    "    elif x==5:\n",
    "        print('# #')\n",
    "    elif x==6:\n",
    "        print('#   #')\n",
    "    elif x==7:\n",
    "        print('#    #')\n",
    "    else:\n",
    "        print('#     #')\n",
    "    x=x+1"
   ]
  },
  {
   "cell_type": "code",
   "execution_count": 138,
   "id": "1656942a",
   "metadata": {},
   "outputs": [
    {
     "name": "stdout",
     "output_type": "stream",
     "text": [
      "#######\n",
      "#\n",
      "#\n",
      "#######\n",
      "      #\n",
      "      #\n",
      "#######\n"
     ]
    }
   ],
   "source": [
    "x=1\n",
    "while x<=7:\n",
    "    if x==1 or x==4 or x==7:\n",
    "        print('#######')\n",
    "    elif x==2 or x==3:\n",
    "        print('#')\n",
    "    else:\n",
    "        print('      #')\n",
    "    x=x+1"
   ]
  },
  {
   "cell_type": "code",
   "execution_count": 141,
   "id": "07929945",
   "metadata": {},
   "outputs": [
    {
     "name": "stdout",
     "output_type": "stream",
     "text": [
      "#########\n",
      "    #    \n",
      "    #    \n",
      "    #    \n",
      "    #    \n",
      "    #    \n",
      "    #    \n"
     ]
    }
   ],
   "source": [
    "x=1\n",
    "while x<=7:\n",
    "    if x==1:\n",
    "        print('#########')\n",
    "    else:\n",
    "        print('    #    ')\n",
    "    x=x+1"
   ]
  },
  {
   "cell_type": "code",
   "execution_count": 156,
   "id": "68b5497b",
   "metadata": {},
   "outputs": [
    {
     "name": "stdout",
     "output_type": "stream",
     "text": [
      "#       #\n",
      " #     #\n",
      "  #   #\n",
      "   # #\n",
      "    #\n"
     ]
    }
   ],
   "source": [
    "x=1\n",
    "while x<=5:\n",
    "    if x==1:\n",
    "        print('#       #')\n",
    "    elif x==2:\n",
    "        print(' #     #')\n",
    "    elif x==3:\n",
    "        print('  #   #')\n",
    "    elif x==4:\n",
    "        print('   # #')\n",
    "    else:\n",
    "        print('    #')\n",
    "    x=x+1"
   ]
  },
  {
   "cell_type": "code",
   "execution_count": 160,
   "id": "705f820e",
   "metadata": {},
   "outputs": [
    {
     "name": "stdout",
     "output_type": "stream",
     "text": [
      "#     #\n",
      "#     #\n",
      "#     #\n",
      "#     #\n",
      "#     #\n",
      "#######\n"
     ]
    }
   ],
   "source": [
    "x=1\n",
    "while x<=6:\n",
    "    if  x==6:\n",
    "        print('#######')\n",
    "    else:\n",
    "        print('#     #')\n",
    "    x=x+1"
   ]
  },
  {
   "cell_type": "code",
   "execution_count": 182,
   "id": "5a89c36e",
   "metadata": {},
   "outputs": [
    {
     "name": "stdout",
     "output_type": "stream",
     "text": [
      "#       #\n",
      "#   #   #\n",
      "#  # #  #\n",
      "# #   # #\n",
      "##     ##\n"
     ]
    }
   ],
   "source": [
    "x=1\n",
    "while x<=5:\n",
    "    if x==1:\n",
    "        print('#       #')\n",
    "    elif x==2:\n",
    "        print('#   #   #')\n",
    "    elif x==3:\n",
    "        print('#  # #  #')\n",
    "    elif x==4:\n",
    "        print('# #   # #')\n",
    "    else:\n",
    "        print('##     ##')\n",
    "    x=x+1"
   ]
  },
  {
   "cell_type": "code",
   "execution_count": 1,
   "id": "150dd020",
   "metadata": {},
   "outputs": [
    {
     "name": "stdout",
     "output_type": "stream",
     "text": [
      "#     #\n",
      " #   # \n",
      "   #   \n",
      " #   # \n",
      "#     #\n"
     ]
    }
   ],
   "source": [
    "x=1\n",
    "while x<=5:\n",
    "    if x==1 or x==5:\n",
    "        print('#     #')\n",
    "    elif x==2 or x==4:\n",
    "        print(' #   # ')\n",
    "    else:\n",
    "        print('   #   ')\n",
    "    x=x+1"
   ]
  },
  {
   "cell_type": "code",
   "execution_count": 3,
   "id": "0b645ae1",
   "metadata": {},
   "outputs": [
    {
     "name": "stdout",
     "output_type": "stream",
     "text": [
      "#       #\n",
      " #     #\n",
      "  #   #\n",
      "   # #\n",
      "    #\n",
      "    #\n",
      "    #\n",
      "    #\n"
     ]
    }
   ],
   "source": [
    "x=1\n",
    "while x<=8:\n",
    "    if x==1:\n",
    "        print('#       #')\n",
    "    elif x==2:\n",
    "        print(' #     #')\n",
    "    elif x==3:\n",
    "        print('  #   #')\n",
    "    elif x==4:\n",
    "        print('   # #')\n",
    "    elif x==5:\n",
    "        print('    #')\n",
    "    else:\n",
    "        print('    #')\n",
    "    x=x+1"
   ]
  },
  {
   "cell_type": "code",
   "execution_count": 10,
   "id": "1cc70692",
   "metadata": {
    "scrolled": true
   },
   "outputs": [
    {
     "name": "stdout",
     "output_type": "stream",
     "text": [
      "#######\n",
      "      #\n",
      "    #\n",
      "  #\n",
      " #\n",
      "#######\n"
     ]
    }
   ],
   "source": [
    "x=1\n",
    "while x<=6:\n",
    "    if x==1 or x==6:\n",
    "        print('#######')\n",
    "    elif x==2:\n",
    "        print('      #')\n",
    "    elif x==3:\n",
    "        print('    #')\n",
    "    elif x==4:\n",
    "        print('  #')\n",
    "    else:\n",
    "        print(' #')\n",
    "    x=x+1"
   ]
  },
  {
   "cell_type": "code",
   "execution_count": null,
   "id": "8d3f05b6",
   "metadata": {},
   "outputs": [],
   "source": []
  }
 ],
 "metadata": {
  "kernelspec": {
   "display_name": "Python 3 (ipykernel)",
   "language": "python",
   "name": "python3"
  },
  "language_info": {
   "codemirror_mode": {
    "name": "ipython",
    "version": 3
   },
   "file_extension": ".py",
   "mimetype": "text/x-python",
   "name": "python",
   "nbconvert_exporter": "python",
   "pygments_lexer": "ipython3",
   "version": "3.9.7"
  }
 },
 "nbformat": 4,
 "nbformat_minor": 5
}
