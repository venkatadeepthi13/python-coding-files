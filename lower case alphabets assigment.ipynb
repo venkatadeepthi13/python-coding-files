{
 "cells": [
  {
   "cell_type": "code",
   "execution_count": 3,
   "id": "b9301ef0",
   "metadata": {},
   "outputs": [
    {
     "name": "stdout",
     "output_type": "stream",
     "text": [
      " #######\n",
      "#       #\n",
      "#       #\n",
      "#       #\n",
      "#       #\n",
      " #######\n",
      "         #\n",
      "           #\n"
     ]
    }
   ],
   "source": [
    "x=1\n",
    "while x<=8:\n",
    "    if x==1 or x==6:\n",
    "        print(' #######')\n",
    "    elif x==2 or x==3:\n",
    "        print('#       #')\n",
    "    elif x==4:\n",
    "        print('#       #')\n",
    "    elif x==5:\n",
    "        print('#       #')\n",
    "    elif x==7:\n",
    "        print('         #')\n",
    "    else:\n",
    "        print('           #')\n",
    "    x=x+1"
   ]
  },
  {
   "cell_type": "code",
   "execution_count": 5,
   "id": "546a4423",
   "metadata": {},
   "outputs": [
    {
     "name": "stdout",
     "output_type": "stream",
     "text": [
      "#\n",
      "#\n",
      "#\n",
      "#######\n",
      "#     #\n",
      "#     #\n",
      "#######\n"
     ]
    }
   ],
   "source": [
    "x=1\n",
    "while x<=7:\n",
    "    if x==4 or x==7:\n",
    "        print('#######')\n",
    "    elif x==5 or x==6:\n",
    "        print(\"#     #\")\n",
    "    else:\n",
    "        print('#')\n",
    "    x=x+1"
   ]
  },
  {
   "cell_type": "code",
   "execution_count": 6,
   "id": "4fdf40db",
   "metadata": {},
   "outputs": [
    {
     "name": "stdout",
     "output_type": "stream",
     "text": [
      "#######\n",
      "#\n",
      "#\n",
      "#\n",
      "#\n",
      "#\n",
      "#######\n"
     ]
    }
   ],
   "source": [
    "x=1\n",
    "while x<=7:\n",
    "    if x==1 or x==7:\n",
    "        print('#######')\n",
    "    else:\n",
    "        print('#')\n",
    "    x=x+1"
   ]
  },
  {
   "cell_type": "code",
   "execution_count": 7,
   "id": "15e1aec4",
   "metadata": {},
   "outputs": [
    {
     "name": "stdout",
     "output_type": "stream",
     "text": [
      "      #\n",
      "      #\n",
      "      #\n",
      "#######\n",
      "#     #\n",
      "#     #\n",
      "#######\n"
     ]
    }
   ],
   "source": [
    "x=1\n",
    "while x<=7:\n",
    "    if x==4 or x==7:\n",
    "        print('#######')\n",
    "    elif x==5 or x==6:\n",
    "        print(\"#     #\")\n",
    "    else:\n",
    "        print('      #')\n",
    "    x=x+1"
   ]
  },
  {
   "cell_type": "code",
   "execution_count": 17,
   "id": "d75c19c5",
   "metadata": {},
   "outputs": [
    {
     "name": "stdout",
     "output_type": "stream",
     "text": [
      " ####### \n",
      "#       #\n",
      "#       #\n",
      "########\n",
      "#\n",
      "#\n",
      " ####### \n"
     ]
    }
   ],
   "source": [
    "x=1\n",
    "while x<=7:\n",
    "    if x==1 or x==7:\n",
    "        print(' ####### ')\n",
    "    elif x==2 or x==3:\n",
    "        print(\"#       #\")\n",
    "    elif x==4:\n",
    "        print('########')\n",
    "    else:\n",
    "        print('#')\n",
    "    x=x+1"
   ]
  },
  {
   "cell_type": "code",
   "execution_count": 17,
   "id": "2e8d6b1a",
   "metadata": {},
   "outputs": [
    {
     "name": "stdout",
     "output_type": "stream",
     "text": [
      "   ###### \n",
      "  #      #\n",
      "  #\n",
      "  #\n",
      "#####\n",
      "  #\n",
      "  #\n",
      "  #\n"
     ]
    }
   ],
   "source": [
    "x=1\n",
    "while x<=8:\n",
    "    if x==1:\n",
    "        print('   ###### ')\n",
    "    elif x==5:\n",
    "        print(\"#####\")\n",
    "    elif x==2 :\n",
    "        print('  #      #')\n",
    "    else:\n",
    "        print('  #')\n",
    "    x=x+1"
   ]
  },
  {
   "cell_type": "code",
   "execution_count": 48,
   "id": "9311cda3",
   "metadata": {},
   "outputs": [
    {
     "name": "stdout",
     "output_type": "stream",
     "text": [
      "#######\n",
      "#     #\n",
      "#     #\n",
      "#######\n",
      "      #\n",
      "      #\n",
      "#     #\n",
      "#######\n"
     ]
    }
   ],
   "source": [
    "x=1\n",
    "while x<=8:\n",
    "    if x==1 or x==4:\n",
    "        print('#######')\n",
    "    elif x==2 or x==3:\n",
    "        print(\"#     #\")\n",
    "    elif x==5 or x==6:\n",
    "        print('      #')\n",
    "    elif x==7:\n",
    "        print('#     #')\n",
    "    else:\n",
    "        print('#######')\n",
    "    x=x+1"
   ]
  },
  {
   "cell_type": "code",
   "execution_count": 52,
   "id": "a13701b7",
   "metadata": {},
   "outputs": [
    {
     "name": "stdout",
     "output_type": "stream",
     "text": [
      "#\n",
      "#\n",
      "#\n",
      "#######\n",
      "#     #\n",
      "#     #\n",
      "#     #\n"
     ]
    }
   ],
   "source": [
    "x=1\n",
    "while x<=7:\n",
    "    if x==1 or x==2 or x==3:\n",
    "        print('#')\n",
    "    elif x==4:\n",
    "        print('#######')\n",
    "    else:\n",
    "        print('#     #')\n",
    "    x=x+1"
   ]
  },
  {
   "cell_type": "code",
   "execution_count": 54,
   "id": "e5a3c604",
   "metadata": {},
   "outputs": [
    {
     "name": "stdout",
     "output_type": "stream",
     "text": [
      "#\n",
      "\n",
      "#\n",
      "#\n",
      "#\n",
      "#\n",
      "#\n"
     ]
    }
   ],
   "source": [
    "x=1\n",
    "while x<=7:\n",
    "    if x==2:\n",
    "        print('')\n",
    "    else:\n",
    "        print('#')\n",
    "    x=x+1\n"
   ]
  },
  {
   "cell_type": "code",
   "execution_count": 56,
   "id": "deb4eaab",
   "metadata": {},
   "outputs": [
    {
     "name": "stdout",
     "output_type": "stream",
     "text": [
      "     #  \n",
      "\n",
      "     #  \n",
      "     #  \n",
      "#    #\n",
      "#    #\n",
      "######\n"
     ]
    }
   ],
   "source": [
    "x=1\n",
    "while x<=7:\n",
    "    if x==2:\n",
    "        print('')\n",
    "    elif x==7:\n",
    "        print('######')\n",
    "    elif x==6 or x==5:\n",
    "        print('#    #')\n",
    "    else:\n",
    "        print('     #  ')\n",
    "    x=x+1"
   ]
  },
  {
   "cell_type": "code",
   "execution_count": 57,
   "id": "8c302dfa",
   "metadata": {},
   "outputs": [
    {
     "name": "stdout",
     "output_type": "stream",
     "text": [
      "#      #\n",
      "#     #\n",
      "#    #\n",
      "# ##\n",
      "#    #\n",
      "#     #\n",
      "#      #\n"
     ]
    }
   ],
   "source": [
    "x=1\n",
    "while x<=7:\n",
    "    if x==1 or x==7:\n",
    "        print('#      #')\n",
    "    elif x==2 or x==6:\n",
    "        print('#     #')\n",
    "    elif x==3 or x==5: \n",
    "        print('#    #')\n",
    "    else:\n",
    "        print('# ##')\n",
    "    x=x+1"
   ]
  },
  {
   "cell_type": "code",
   "execution_count": 1,
   "id": "01f72e1d",
   "metadata": {},
   "outputs": [
    {
     "name": "stdout",
     "output_type": "stream",
     "text": [
      "#\n",
      "#\n",
      "#\n",
      "#\n",
      "#\n",
      "#\n"
     ]
    }
   ],
   "source": [
    "x=1\n",
    "while x<=6:\n",
    "    print('#')\n",
    "    x=x+1"
   ]
  },
  {
   "cell_type": "code",
   "execution_count": 7,
   "id": "fe6ab668",
   "metadata": {},
   "outputs": [
    {
     "name": "stdout",
     "output_type": "stream",
     "text": [
      "   ###    ###\n",
      "#       #       #\n",
      "#       #       #\n",
      "#       #       #\n",
      "#       #       #\n",
      "#       #       #\n"
     ]
    }
   ],
   "source": [
    "x=1\n",
    "while x<=6:\n",
    "    if x==1:\n",
    "        print('   ###    ###')\n",
    "    else:\n",
    "        print('#       #       #')\n",
    "    x=x+1"
   ]
  },
  {
   "cell_type": "code",
   "execution_count": 3,
   "id": "6ae82ca9",
   "metadata": {},
   "outputs": [
    {
     "name": "stdout",
     "output_type": "stream",
     "text": [
      "   ###  \n",
      "#      #\n",
      "#      #\n",
      "#      #\n",
      "#      #\n",
      "#      #\n"
     ]
    }
   ],
   "source": [
    "x=1\n",
    "while x<=6:\n",
    "    if x==1:\n",
    "        print('   ###  ')\n",
    "    else:\n",
    "        print('#      #')\n",
    "    x=x+1"
   ]
  },
  {
   "cell_type": "code",
   "execution_count": 8,
   "id": "d3885fe7",
   "metadata": {},
   "outputs": [
    {
     "name": "stdout",
     "output_type": "stream",
     "text": [
      " ####### \n",
      "#       #\n",
      "#       #\n",
      "#       #\n",
      "#       #\n",
      " ####### \n"
     ]
    }
   ],
   "source": [
    "x=1\n",
    "while x<=6:\n",
    "    if x==1 or x==6:\n",
    "        print(' ####### ')\n",
    "    else:\n",
    "        print('#       #')\n",
    "    x=x+1"
   ]
  },
  {
   "cell_type": "code",
   "execution_count": 9,
   "id": "00ccffd1",
   "metadata": {},
   "outputs": [
    {
     "name": "stdout",
     "output_type": "stream",
     "text": [
      "######## \n",
      "#       #\n",
      "#       #\n",
      "######## \n",
      "#\n",
      "#\n",
      "#\n",
      "#\n"
     ]
    }
   ],
   "source": [
    "x=1\n",
    "while x<=8:\n",
    "    if x==1 or x==4:\n",
    "        print('######## ')\n",
    "    elif x==2 or x==3:\n",
    "        print('#       #')\n",
    "    else:\n",
    "        print('#')\n",
    "    x=x+1"
   ]
  },
  {
   "cell_type": "code",
   "execution_count": 15,
   "id": "fc5bbd3d",
   "metadata": {},
   "outputs": [
    {
     "name": "stdout",
     "output_type": "stream",
     "text": [
      "#######\n",
      "#     #\n",
      "#     #\n",
      "#######\n",
      "      #  #\n",
      "      #  #\n",
      "      ##\n"
     ]
    }
   ],
   "source": [
    "x=1\n",
    "while x<=7:\n",
    "    if x==1 or x==4:\n",
    "        print('#######')\n",
    "    elif x==2 or x==3:\n",
    "        print(\"#     #\")\n",
    "    elif x==4:\n",
    "        print('      #')\n",
    "    elif x==5 or x==6:\n",
    "        print('      #  #')\n",
    "    else:\n",
    "        print('      ##')\n",
    "    x=x+1"
   ]
  },
  {
   "cell_type": "markdown",
   "id": "a4dc68c9",
   "metadata": {},
   "source": []
  },
  {
   "cell_type": "code",
   "execution_count": 54,
   "id": "d42dbe45",
   "metadata": {},
   "outputs": [
    {
     "name": "stdout",
     "output_type": "stream",
     "text": [
      "#\n",
      "#   #\n",
      "# #\n",
      "##\n",
      "##\n",
      "##\n"
     ]
    }
   ],
   "source": [
    "x=1\n",
    "while x<=6:\n",
    "    if x==2:\n",
    "        print('#   #')\n",
    "    elif x==1:\n",
    "        print('#')\n",
    "    elif x==3:\n",
    "        print('# #')\n",
    "    else:\n",
    "        print('##')\n",
    "    x=x+1"
   ]
  },
  {
   "cell_type": "code",
   "execution_count": 56,
   "id": "22301776",
   "metadata": {},
   "outputs": [
    {
     "name": "stdout",
     "output_type": "stream",
     "text": [
      " ####### \n",
      "#\n",
      "#\n",
      " ####### \n",
      "        #\n",
      "        #\n",
      " ####### \n"
     ]
    }
   ],
   "source": [
    "x=1\n",
    "while x<=7:\n",
    "    if x==1 or x==4 or x==7:\n",
    "        print(' ####### ')\n",
    "    elif x==2 or x==3:\n",
    "        print('#')\n",
    "    else:\n",
    "        print('        #')\n",
    "    x=x+1"
   ]
  },
  {
   "cell_type": "code",
   "execution_count": 43,
   "id": "71a1f48c",
   "metadata": {},
   "outputs": [
    {
     "name": "stdout",
     "output_type": "stream",
     "text": [
      "   #   \n",
      "   #   \n",
      "   #   \n",
      " ######  \n",
      "   #   \n",
      "   #   \n",
      "   #######\n"
     ]
    }
   ],
   "source": [
    "x=1\n",
    "while x<=7:\n",
    "    if x==7:\n",
    "        print('   #######')\n",
    "    elif x==4:\n",
    "        print(' ######  ')\n",
    "    else:\n",
    "        print('   #   ')\n",
    "    x=x+1"
   ]
  },
  {
   "cell_type": "code",
   "execution_count": 44,
   "id": "bc5f3b0c",
   "metadata": {},
   "outputs": [
    {
     "name": "stdout",
     "output_type": "stream",
     "text": [
      "#     #\n",
      "#     #\n",
      "#     #\n",
      "#     #\n",
      "#     #\n",
      "#######\n"
     ]
    }
   ],
   "source": [
    "x=1\n",
    "while x<=6:\n",
    "    if  x==6:\n",
    "        print('#######')\n",
    "    else:\n",
    "        print('#     #')\n",
    "    x=x+1"
   ]
  },
  {
   "cell_type": "code",
   "execution_count": 45,
   "id": "2c843420",
   "metadata": {},
   "outputs": [
    {
     "name": "stdout",
     "output_type": "stream",
     "text": [
      "#       #\n",
      " #     #\n",
      "  #   #\n",
      "   # #\n",
      "    #\n"
     ]
    }
   ],
   "source": [
    "x=1\n",
    "while x<=5:\n",
    "    if x==1:\n",
    "        print('#       #')\n",
    "    elif x==2:\n",
    "        print(' #     #')\n",
    "    elif x==3:\n",
    "        print('  #   #')\n",
    "    elif x==4:\n",
    "        print('   # #')\n",
    "    else:\n",
    "        print('    #')\n",
    "    x=x+1"
   ]
  },
  {
   "cell_type": "code",
   "execution_count": 47,
   "id": "1ec34932",
   "metadata": {},
   "outputs": [
    {
     "name": "stdout",
     "output_type": "stream",
     "text": [
      "#       #       #\n",
      "#       #       #\n",
      "#       #       #\n",
      "#       #       #\n",
      "#       #       #\n",
      "   ###    ###\n"
     ]
    }
   ],
   "source": [
    "x=1\n",
    "while x<=6:\n",
    "    if x==6:\n",
    "        print('   ###    ###')\n",
    "    else:\n",
    "        print('#       #       #')\n",
    "    x=x+1\n"
   ]
  },
  {
   "cell_type": "code",
   "execution_count": 48,
   "id": "ba3e86e0",
   "metadata": {},
   "outputs": [
    {
     "name": "stdout",
     "output_type": "stream",
     "text": [
      "#     #\n",
      " #   # \n",
      "   #   \n",
      " #   # \n",
      "#     #\n"
     ]
    }
   ],
   "source": [
    "x=1\n",
    "while x<=5:\n",
    "    if x==1 or x==5:\n",
    "        print('#     #')\n",
    "    elif x==2 or x==4:\n",
    "        print(' #   # ')\n",
    "    else:\n",
    "        print('   #   ')\n",
    "    x=x+1"
   ]
  },
  {
   "cell_type": "code",
   "execution_count": 50,
   "id": "988db6f6",
   "metadata": {},
   "outputs": [
    {
     "name": "stdout",
     "output_type": "stream",
     "text": [
      "#     #\n",
      "#     #\n",
      "#     #\n",
      "#######\n",
      "      #\n",
      "      #\n",
      "#     #\n",
      "#######\n"
     ]
    }
   ],
   "source": [
    "x=1\n",
    "while x<=8:\n",
    "    if x==1 or x==2 or x==3:\n",
    "        print(\"#     #\")\n",
    "    elif x==5 or x==6:\n",
    "        print('      #')\n",
    "    elif x==7:\n",
    "        print('#     #')\n",
    "    else:\n",
    "        print('#######')\n",
    "    x=x+1"
   ]
  },
  {
   "cell_type": "code",
   "execution_count": 51,
   "id": "8c441c61",
   "metadata": {},
   "outputs": [
    {
     "name": "stdout",
     "output_type": "stream",
     "text": [
      "#######\n",
      "      #\n",
      "    #\n",
      "  #\n",
      " #\n",
      "#######\n"
     ]
    }
   ],
   "source": [
    "x=1\n",
    "while x<=6:\n",
    "    if x==1 or x==6:\n",
    "        print('#######')\n",
    "    elif x==2:\n",
    "        print('      #')\n",
    "    elif x==3:\n",
    "        print('    #')\n",
    "    elif x==4:\n",
    "        print('  #')\n",
    "    else:\n",
    "        print(' #')\n",
    "    x=x+1"
   ]
  },
  {
   "cell_type": "code",
   "execution_count": null,
   "id": "5a05255e",
   "metadata": {},
   "outputs": [],
   "source": []
  }
 ],
 "metadata": {
  "kernelspec": {
   "display_name": "Python 3 (ipykernel)",
   "language": "python",
   "name": "python3"
  },
  "language_info": {
   "codemirror_mode": {
    "name": "ipython",
    "version": 3
   },
   "file_extension": ".py",
   "mimetype": "text/x-python",
   "name": "python",
   "nbconvert_exporter": "python",
   "pygments_lexer": "ipython3",
   "version": "3.9.7"
  }
 },
 "nbformat": 4,
 "nbformat_minor": 5
}
